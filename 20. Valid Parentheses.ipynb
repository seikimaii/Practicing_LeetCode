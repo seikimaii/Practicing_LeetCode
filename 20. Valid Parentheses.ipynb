{
 "cells": [
  {
   "cell_type": "markdown",
   "id": "d8b4ac78",
   "metadata": {},
   "source": [
    "# 請寫一個函式來檢查字串內的括號使否使用正確  \n",
    "### 只會有'( )','[ ]','{ }' 這六種符號存在\n",
    "* 1 <= s.length <= 104"
   ]
  },
  {
   "cell_type": "code",
   "execution_count": null,
   "id": "c3a6142c",
   "metadata": {},
   "outputs": [],
   "source": [
    "# 2021 11 21 作答\n",
    "# 20. Valid Parentheses"
   ]
  },
  {
   "cell_type": "code",
   "execution_count": 5,
   "id": "05a33479",
   "metadata": {},
   "outputs": [],
   "source": [
    "def isValid(self, s: str) -> bool:\n",
    "    \n",
    "    a1 = []\n",
    "    for i in s:\n",
    "        if i in ['{','[','(']:\n",
    "            a1.append(i)\n",
    "        else:\n",
    "            if not a1:\n",
    "                return False\n",
    "            if a1[-1]=='{' and i=='}' or a1[-1]=='[' and i==']' or a1[-1]=='(' and i==')':\n",
    "                a1.pop()\n",
    "                continue\n",
    "            else:\n",
    "                return False\n",
    "    if a1:\n",
    "        return False\n",
    "    return True"
   ]
  },
  {
   "cell_type": "markdown",
   "id": "fd1270ab",
   "metadata": {},
   "source": [
    "## 詳解"
   ]
  },
  {
   "cell_type": "code",
   "execution_count": 9,
   "id": "03ca8d2b",
   "metadata": {},
   "outputs": [],
   "source": [
    "def isValid(self, s: str) -> bool:\n",
    "        \n",
    "        paren_map = {')':'(',']':'[','}':'{'} \n",
    "        \n",
    "        stack = []\n",
    "        for p in s:\n",
    "            if p not in paren_map:\n",
    "                stack.append(p)\n",
    "            else:\n",
    "                if len(stack) == 0 or paren_map[p] != stack[-1]:\n",
    "                    return False\n",
    "                elif stack[-1] == paren_map[p]:\n",
    "                    stack.pop()\n",
    "            \n",
    "        return stack == []\n",
    "    "
   ]
  },
  {
   "cell_type": "markdown",
   "id": "96fa28ad",
   "metadata": {},
   "source": [
    "### 遇到左括號時存起來，遇到右括號時  \n",
    "1. 檢查stack有沒有東西  \n",
    "2. 檢查stack最後一項是否跟這時的右括號成對  \n",
    "3. 若不成對 直接回傳錯誤，若成對 去掉最後一項 迴圈繼續\n",
    "### 迴圈結束 若stack有東西 則表示不成對"
   ]
  },
  {
   "cell_type": "code",
   "execution_count": null,
   "id": "32c01bd7",
   "metadata": {},
   "outputs": [],
   "source": []
  }
 ],
 "metadata": {
  "kernelspec": {
   "display_name": "Python 3",
   "language": "python",
   "name": "python3"
  },
  "language_info": {
   "codemirror_mode": {
    "name": "ipython",
    "version": 3
   },
   "file_extension": ".py",
   "mimetype": "text/x-python",
   "name": "python",
   "nbconvert_exporter": "python",
   "pygments_lexer": "ipython3",
   "version": "3.7.10"
  }
 },
 "nbformat": 4,
 "nbformat_minor": 5
}
