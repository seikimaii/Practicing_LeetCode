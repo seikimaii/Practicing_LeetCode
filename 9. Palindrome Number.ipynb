{
 "cells": [
  {
   "cell_type": "markdown",
   "id": "52283e9c",
   "metadata": {},
   "source": [
    "## 請寫一個函式判斷一個整數是否為顛倒數  \n",
    "## 一個整數顛倒過來寫，數值仍然不變  \n",
    "#### 121 -> 121 True\n",
    "#### 10 -> 01 False\n",
    "#### -1234 -> 4321- False"
   ]
  },
  {
   "cell_type": "code",
   "execution_count": null,
   "id": "d1994d84",
   "metadata": {},
   "outputs": [],
   "source": [
    "# 2021 11 17 作答\n",
    "# 9. Palindrome Number"
   ]
  },
  {
   "cell_type": "code",
   "execution_count": null,
   "id": "fd0e17dc",
   "metadata": {},
   "outputs": [],
   "source": [
    "  def isPalindrome(self, x: int) -> bool:\n",
    "        num_list = ','.join(str(x)).split(',')\n",
    "        if x < 0:\n",
    "            return False\n",
    "        \n",
    "        # 0   1  2  3  4\n",
    "        # -5 -4 -3 -2 -1\n",
    "        elif len(num_list) == 1:\n",
    "            return True\n",
    "        elif len(num_list) == 2:\n",
    "            if num_list[0] == num_list[1]:\n",
    "                return True\n",
    "            else:\n",
    "                return False\n",
    "        elif len(num_list) > 2:\n",
    "            count = 0\n",
    "            for i in range(len(num_list)):\n",
    "                if num_list[i] == num_list[-i-1]:\n",
    "                    count += 1\n",
    "            if count == len(num_list):\n",
    "                return True\n",
    "            else:\n",
    "                return False"
   ]
  },
  {
   "cell_type": "markdown",
   "id": "bce3196c",
   "metadata": {},
   "source": [
    "### 詳解"
   ]
  },
  {
   "cell_type": "code",
   "execution_count": null,
   "id": "c681c24a",
   "metadata": {},
   "outputs": [],
   "source": [
    "def isPalindrome(self, x):\n",
    "        if x < 0 or (x > 0 and x % 10 == 0):\n",
    "            return False\n",
    "        \n",
    "        return x == self.reverseUtil(x)\n",
    "        \n",
    "    def reverseUtil(self, x):\n",
    "        result = 0\n",
    "\n",
    "        while x != 0:                   #將數字不斷餘 10 取得 個位數 在乘 10 後 反向相加\n",
    "            digit = x % 10              # 若值不變則相等\n",
    "            result = result * 10 + digit\n",
    "            x = int(x / 10)\n",
    "            \n",
    "        return result "
   ]
  }
 ],
 "metadata": {
  "kernelspec": {
   "display_name": "Python 3",
   "language": "python",
   "name": "python3"
  },
  "language_info": {
   "codemirror_mode": {
    "name": "ipython",
    "version": 3
   },
   "file_extension": ".py",
   "mimetype": "text/x-python",
   "name": "python",
   "nbconvert_exporter": "python",
   "pygments_lexer": "ipython3",
   "version": "3.7.10"
  }
 },
 "nbformat": 4,
 "nbformat_minor": 5
}
