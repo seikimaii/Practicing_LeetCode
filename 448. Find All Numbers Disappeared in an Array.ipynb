{
 "cells": [
  {
   "cell_type": "markdown",
   "id": "558d174f",
   "metadata": {},
   "source": [
    "# 請寫出一個函式 可以找到陣列裡缺少的值\n",
    "### 題目會給一個整數陣列 長度為 n\n",
    "### 陣列裡的值會介於 1~n (包含頭尾)\n",
    "### 找出陣列裡缺少了 1~n的哪些值 回傳  \n",
    "\n",
    "    Input: nums = [4,3,2,7,8,2,3,1]   長度為 8 完整陣列為 [1,2,3,4,5,6,7,8]\n",
    "    Output: [5,6]  \n",
    "  \n",
    "    Input: nums = [1,1]         長度為 2 完整陣列為 [1,2]\n",
    "    Output: [2]  \n",
    "\n",
    "    * n == nums.length\n",
    "    * 1 <= n <= 105\n",
    "    * 1 <= nums[i] <= n"
   ]
  },
  {
   "cell_type": "code",
   "execution_count": null,
   "id": "96d6c7b3",
   "metadata": {},
   "outputs": [],
   "source": [
    "# 2021 11 18 作答\n",
    "# 448. Find All Numbers Disappeared in an Array"
   ]
  },
  {
   "cell_type": "code",
   "execution_count": null,
   "id": "0c06da12",
   "metadata": {},
   "outputs": [],
   "source": [
    " def findDisappearedNumbers(self, nums: List[int]) -> List[int]:\n",
    "        # p = [1,1,2,2,3]\n",
    "        # s = [1,2,3,4,5]\n",
    "        n = len(nums)\n",
    "        a = list(range(1,n+1))\n",
    "        qq = set(a) ^ set(nums)\n",
    "        return list(qq)\n",
    "        "
   ]
  },
  {
   "cell_type": "markdown",
   "id": "0ec6bc94",
   "metadata": {},
   "source": [
    "## 詳解"
   ]
  },
  {
   "cell_type": "code",
   "execution_count": null,
   "id": "8a461912",
   "metadata": {},
   "outputs": [],
   "source": [
    "def findDisappearedNumbers(self, nums: List[int]) -> List[int]:\n",
    "        for v in nums:            \n",
    "            nums[abs(v) - 1] = -abs(nums[abs(v) - 1])\n",
    "                \n",
    "        return [ i + 1 for i, v in enumerate(nums) if v >= 1 ]"
   ]
  },
  {
   "cell_type": "markdown",
   "id": "adfbc99c",
   "metadata": {},
   "source": [
    "上面的函式作用為 \n",
    "1. 將陣列裡的某個值變為負數  \n",
    "2. 並依照最後結果 看哪個index位置上的值是大於0的(正整數) 就回傳index+1值 \n",
    "  \n",
    "為什麼這樣會是正確答案？\n",
    "\n",
    "###### 仔細分析某個值改為負數的作法  \n",
    "&ensp;&ensp;&ensp;for <font color=blue>v</font> in <font color=blue>nums</font>: 將陣列裡的值拿出來  \n",
    "&ensp;&ensp;&ensp;&ensp;&ensp;&ensp;<font color=blue>nums</font>[abs(<font color=blue>v</font>) - 1] = -abs(<font color=blue>nums</font>[abs(<font color=blue>v</font>) - 1]) 將這個值當作index 並且把該位置的值加上負號  \n",
    "        \n",
    "這個操作是把index值拿來當作標記 若你陣列裡有5 我便把第5個位置的index(index=4在第五位置)表示的值 改成負數 說明這個陣列裡有5了  \n",
    "如此標記會讓陣列裡沒有的值 在index標記中 仍然保持正數  \n",
    "最後再把那幾個位置的值 取index+1回傳 則可代表缺少的整數值  \n",
    "  \n",
    "為什麼要用abs()函式？  \n",
    "因為在每次迴圈中 可能會改變還沒輪到的陣列值 若不使用abs()  \n",
    "index標記會出包 迴圈不會標到你希望標到的位置上"
   ]
  }
 ],
 "metadata": {
  "kernelspec": {
   "display_name": "Python 3",
   "language": "python",
   "name": "python3"
  },
  "language_info": {
   "codemirror_mode": {
    "name": "ipython",
    "version": 3
   },
   "file_extension": ".py",
   "mimetype": "text/x-python",
   "name": "python",
   "nbconvert_exporter": "python",
   "pygments_lexer": "ipython3",
   "version": "3.7.10"
  }
 },
 "nbformat": 4,
 "nbformat_minor": 5
}
