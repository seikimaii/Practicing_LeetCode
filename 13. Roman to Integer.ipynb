{
 "cells": [
  {
   "cell_type": "markdown",
   "id": "789a4d0e",
   "metadata": {},
   "source": [
    "# 請寫一個函式將羅馬數字轉換成阿拉伯數字  \n",
    "\n",
    "\n",
    "|Symbol| Value|\n",
    "|:----:|:----:|\n",
    "|I     |   1  |\n",
    "|V     |   5  |\n",
    "|X     |  10  |\n",
    "|L     |  50  |\n",
    "|C     | 100  |\n",
    "|D     | 500  |\n",
    "|M     |1000  |\n",
    "\n",
    "#### I can be placed before V (5) and X (10) to make 4 and 9.   \n",
    "#### X can be placed before L (50) and C (100) to make 40 and 90.   \n",
    "#### C can be placed before D (500) and M (1000) to make 400 and 900.  \n",
    "\n",
    "題目的s  \n",
    "會介於 1~3999 之間  \n",
    "長度<15  \n",
    "且只會有上述提到的字母 不會有雜訊"
   ]
  },
  {
   "cell_type": "code",
   "execution_count": null,
   "id": "cfd6ba75",
   "metadata": {},
   "outputs": [],
   "source": [
    "# 2021 11 18 作答\n",
    "# 13. Roman to Integer"
   ]
  },
  {
   "cell_type": "code",
   "execution_count": 7,
   "id": "cb4191b3",
   "metadata": {},
   "outputs": [],
   "source": [
    "def romanToInt(s: str) -> int:\n",
    "    r_dic = {'I':1, \n",
    "             'V':5, \n",
    "             'X':10, \n",
    "             'L':50, \n",
    "             'C':100, \n",
    "             'D':500, \n",
    "             'M':1000}\n",
    "    r_num = 0\n",
    "    for i in s:\n",
    "        r_num += r_dic[i]\n",
    "    if 'CM' in s or 'CD' in s:\n",
    "        r_num -= 200\n",
    "    if 'XL' in s or 'XC' in s:\n",
    "        r_num -= 20\n",
    "    if 'IV' in s or 'IX' in s:\n",
    "        r_num -= 2\n",
    "    return r_num"
   ]
  },
  {
   "cell_type": "markdown",
   "id": "48747699",
   "metadata": {},
   "source": [
    "## 詳解"
   ]
  },
  {
   "cell_type": "code",
   "execution_count": null,
   "id": "c0bc006c",
   "metadata": {},
   "outputs": [],
   "source": [
    "def romanToInt(s: str) -> int:\n",
    "    rd = {\n",
    "        \"I\" : 1,\n",
    "        \"V\" : 5,\n",
    "        \"X\" : 10,\n",
    "        \"L\" : 50,\n",
    "        \"C\" : 100,\n",
    "        \"D\" : 500,\n",
    "        \"M\" : 1000\n",
    "        }\n",
    "\n",
    "    n = len(s)\n",
    "    rt = 0\n",
    "    for i in range(n):\n",
    "        if  i==n-1 or rd[s[i]] >= rd[s[i+1]] :\n",
    "            rt += rd[s[i]]\n",
    "        else :\n",
    "            rt -= rd[s[i]]\n",
    "\n",
    "    return rt"
   ]
  }
 ],
 "metadata": {
  "kernelspec": {
   "display_name": "Python 3",
   "language": "python",
   "name": "python3"
  },
  "language_info": {
   "codemirror_mode": {
    "name": "ipython",
    "version": 3
   },
   "file_extension": ".py",
   "mimetype": "text/x-python",
   "name": "python",
   "nbconvert_exporter": "python",
   "pygments_lexer": "ipython3",
   "version": "3.7.10"
  }
 },
 "nbformat": 4,
 "nbformat_minor": 5
}
