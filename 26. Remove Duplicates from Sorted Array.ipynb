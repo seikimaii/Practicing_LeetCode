{
 "cells": [
  {
   "cell_type": "markdown",
   "id": "fc7d2d4d",
   "metadata": {},
   "source": [
    "# 請寫一個函式去除重複的值  \n",
    "## 務必直接修改原本的陣列，而不使用其餘記憶體  \n",
    "## 回傳整數值，代表你修改完的陣列裡面，到第幾個數字是你的答案  \n",
    "Input: nums = [1,1,2]  \n",
    "Output: 2, nums = [1,2,_]  \n",
    "Explanation: Your function should return k = 2, with the first two elements of nums being 1 and 2 respectively.  \n",
    "It does not matter what you leave beyond the returned k (hence they are underscores).  "
   ]
  },
  {
   "cell_type": "code",
   "execution_count": null,
   "id": "e57edd39",
   "metadata": {},
   "outputs": [],
   "source": [
    "# 2021 11 29 作答\n",
    "# 26. Remove Duplicates from Sorted Array"
   ]
  },
  {
   "cell_type": "code",
   "execution_count": null,
   "id": "fba65352",
   "metadata": {},
   "outputs": [],
   "source": [
    "def removeDuplicates(self, nums: List[int]) -> int:\n",
    "    ij = []\n",
    "    for i in range(len(nums)-1):\n",
    "        if nums[i] == nums[i+1]:\n",
    "            ij.append(nums[i+1])\n",
    "    for k in ij:\n",
    "        nums.remove(k)\n",
    "    return len(nums)"
   ]
  },
  {
   "cell_type": "markdown",
   "id": "7d521e80",
   "metadata": {},
   "source": [
    "## 詳解"
   ]
  },
  {
   "cell_type": "code",
   "execution_count": null,
   "id": "df51de0d",
   "metadata": {},
   "outputs": [],
   "source": [
    "def removeDuplicates(self, nums: List[int]) -> int:\n",
    "    i = 1\n",
    "    for ind in range(1, len(nums)):\n",
    "        if nums[ind] != nums[ind-1]:\n",
    "            nums[i] = nums[ind]\n",
    "            i += 1\n",
    "    return i"
   ]
  },
  {
   "cell_type": "markdown",
   "id": "744d81e0",
   "metadata": {},
   "source": [
    "#### 使用兩個標籤檢查  \n",
    " i 表示已經完成的位置  \n",
    " ind 表示檢查的進度  \n",
    "   \n",
    " i只有在確認該位置出現跟前一位置不同值時，才會往前推進  \n",
    " 「向後檢查」，至少可以確認已經將第一個不同值放入完成清單  \n",
    " [0,1,1,1,2]  \n",
    "   &nbsp;&nbsp;&nbsp;&nbsp;&nbsp;&nbsp;&nbsp;^  \n"
   ]
  },
  {
   "cell_type": "code",
   "execution_count": null,
   "id": "048eb12f",
   "metadata": {},
   "outputs": [],
   "source": [
    "def removeDuplicates(self, nums: List[int]) -> int:\n",
    "    i = 0\n",
    "    for ind in range(len(nums)-1):\n",
    "        if nums[ind] != nums[ind+1]:\n",
    "            i += 1\n",
    "            nums[i] = nums[ind+1]\n",
    "\n",
    "    return i+1"
   ]
  },
  {
   "cell_type": "markdown",
   "id": "02391d5a",
   "metadata": {},
   "source": [
    "「向前檢查」，跟向後檢查邏輯一致，不過必須先往前推進，才取代值，並且要留意 ind 的前進狀況。"
   ]
  }
 ],
 "metadata": {
  "kernelspec": {
   "display_name": "Python 3",
   "language": "python",
   "name": "python3"
  },
  "language_info": {
   "codemirror_mode": {
    "name": "ipython",
    "version": 3
   },
   "file_extension": ".py",
   "mimetype": "text/x-python",
   "name": "python",
   "nbconvert_exporter": "python",
   "pygments_lexer": "ipython3",
   "version": "3.7.10"
  }
 },
 "nbformat": 4,
 "nbformat_minor": 5
}
