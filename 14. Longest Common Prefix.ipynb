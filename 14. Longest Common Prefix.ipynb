{
 "cells": [
  {
   "cell_type": "markdown",
   "id": "2e97b8f4",
   "metadata": {},
   "source": [
    "# 寫一個函式取出字串List的 common prefix  \n",
    "#### 有一個都是字串的List  \n",
    "#### common prefix 意思為\"每個\"字串的共同開頭\n",
    "    Example 1:\n",
    "    Input: strs = [\"flower\",\"flow\",\"flight\"]\n",
    "    Output: \"fl\"\n",
    "    \n",
    "    Example 2:\n",
    "    Input: strs = [\"dog\",\"racecar\",\"car\"]\n",
    "    Output: \"\"\n",
    "    Explanation: There is no common prefix among the input strings.\n",
    "\n",
    "* 1 <= strs.length <= 200\n",
    "* 0 <= strs[i].length <= 200\n",
    "* strs[i] consists of only lower-case English letters."
   ]
  },
  {
   "cell_type": "code",
   "execution_count": null,
   "id": "50573781",
   "metadata": {},
   "outputs": [],
   "source": [
    "# 2021 11 19 作答\n",
    "# 14. Longest Common Prefix"
   ]
  },
  {
   "cell_type": "code",
   "execution_count": 3,
   "id": "70aad1f7",
   "metadata": {},
   "outputs": [],
   "source": [
    " def longestCommonPrefix(strs):\n",
    "        s = \"\"\n",
    "        if strs[0] == s:\n",
    "            return s\n",
    "        if len(strs) == 1:\n",
    "            return strs[0]\n",
    "        l = len(strs[0])\n",
    "        \n",
    "        \n",
    "        for i in strs[1:]:\n",
    "            while True:\n",
    "                if l < 0:\n",
    "                    return s\n",
    "                elif strs[0][:l] == i[:l]:\n",
    "                    break\n",
    "                else:\n",
    "                    l -= 1\n",
    "        return strs[0][:l]"
   ]
  },
  {
   "cell_type": "markdown",
   "id": "783594e0",
   "metadata": {},
   "source": [
    "## 詳解"
   ]
  },
  {
   "cell_type": "markdown",
   "id": "7dca6b3b",
   "metadata": {},
   "source": [
    "概念一樣 將第一個字串拿出來跟後面的字串比較  \n",
    "若不等於 則退一格繼續比 直到相等 換下一個字串 若完全不等於 則停止迴圈 並回傳空字串"
   ]
  },
  {
   "cell_type": "code",
   "execution_count": 4,
   "id": "ef1aa7f8",
   "metadata": {},
   "outputs": [],
   "source": [
    "def longestCommonPrefix(strs) -> str:\n",
    "    s = strs[0]\n",
    "        for i in strs[1:]:\n",
    "            while s != i[:len(s)]:\n",
    "                s = s[:-1]\n",
    "            if not s:\n",
    "                return ''\n",
    "        return s"
   ]
  }
 ],
 "metadata": {
  "kernelspec": {
   "display_name": "Python 3",
   "language": "python",
   "name": "python3"
  },
  "language_info": {
   "codemirror_mode": {
    "name": "ipython",
    "version": 3
   },
   "file_extension": ".py",
   "mimetype": "text/x-python",
   "name": "python",
   "nbconvert_exporter": "python",
   "pygments_lexer": "ipython3",
   "version": "3.7.10"
  }
 },
 "nbformat": 4,
 "nbformat_minor": 5
}
