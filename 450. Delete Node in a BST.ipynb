{
 "cells": [
  {
   "cell_type": "markdown",
   "metadata": {},
   "source": [
    "450. Delete Node in a BST  \n",
    "Given a root node reference of a BST and a key, delete the node with the given key in the BST. Return the root node reference (possibly updated) of the BST.\n",
    "\n",
    "Basically, the deletion can be divided into two stages:\n",
    "\n",
    "Search for a node to remove.\n",
    "If the node is found, delete the node.  \n",
    "\n",
    "ex:  \n",
    "Input: root = [5,3,6,2,4,null,7], key = 3  \n",
    "Output: [5,4,6,2,null,null,7]  \n",
    "Explanation: Given key to delete is 3. So we find the node with value 3 and delete it.  \n",
    "One valid answer is [5,4,6,2,null,null,7], shown in the above BST.  \n",
    "Please notice that another valid answer is [5,2,6,null,4,null,7] and it's also accepted.  "
   ]
  },
  {
   "cell_type": "markdown",
   "metadata": {},
   "source": [
    "## solution  \n",
    "1. try if you can fine the target node in tree.  \n",
    "2. when delete it, there is constraints. because you need to know the parents of that node, it is difficult.  \n",
    "3. so we alternatively modify the target node value with its child. and recursively delete the child node.  \n",
    "4. And there are three condition, the node has only left child, right child, or two child.  \n",
    "If there is only one child, we directly return that child to root.  \n",
    "If there are two children, in order to keep tree as BST, we find the minium value in right subtree, and modify the val to it, and do delete that value in right subtree.  \n"
   ]
  },
  {
   "cell_type": "code",
   "execution_count": 10,
   "metadata": {},
   "outputs": [
    {
     "name": "stdout",
     "output_type": "stream",
     "text": [
      "BST before deletion:\n",
      "[5, 3, 6, 2, 4, 7]\n",
      "\n",
      "BST after deletion:\n",
      "[5, 4, 6, 2, 7]\n"
     ]
    }
   ],
   "source": [
    "from collections import deque\n",
    "class TreeNode:\n",
    "    def __init__(self, val=0, left=None, right=None):\n",
    "        self.val = val\n",
    "        self.left = left\n",
    "        self.right = right\n",
    "\n",
    "def delete_node(root, key):\n",
    "    if not root:\n",
    "        return root\n",
    "\n",
    "    # Find the node to be deleted\n",
    "    if key < root.val:\n",
    "        root.left = delete_node(root.left, key)\n",
    "    elif key > root.val:\n",
    "        root.right = delete_node(root.right, key)\n",
    "    else:\n",
    "        # Node with only one child or no child\n",
    "        if not root.left:\n",
    "            return root.right\n",
    "        elif not root.right:\n",
    "            return root.left\n",
    "        \n",
    "        # Node with two children: get the in-order successor (smallest in the right subtree)\n",
    "        temp = find_min(root.right)\n",
    "        root.val = temp.val\n",
    "        root.right = delete_node(root.right, temp.val)\n",
    "    \n",
    "    return root\n",
    "def find_min(node):\n",
    "    current = node\n",
    "    while current.left:\n",
    "        current = current.left\n",
    "    return current\n",
    "\n",
    "def bfs_tree(root):\n",
    "    if not root:\n",
    "        return []\n",
    "\n",
    "    queue = deque([root])\n",
    "    bfs_order = []\n",
    "\n",
    "    while queue:\n",
    "        node = queue.popleft()\n",
    "        bfs_order.append(node.val)\n",
    "        if node.left:\n",
    "            queue.append(node.left)\n",
    "        if node.right:\n",
    "            queue.append(node.right)\n",
    "\n",
    "    print(bfs_order)\n",
    "# Example usage:\n",
    "# Constructing the BST:\n",
    "#        4\n",
    "#       / \\\n",
    "#      2   6\n",
    "#     / \\   \\\n",
    "#    1   3   7\n",
    "#[5,3,6,2,4,null,7]\n",
    "root = TreeNode(5)\n",
    "root.left = TreeNode(3)\n",
    "root.right = TreeNode(6)\n",
    "root.left.left = TreeNode(2)\n",
    "root.left.right = TreeNode(4)\n",
    "root.right.right = TreeNode(7)\n",
    "\n",
    "print(\"BST before deletion:\")\n",
    "bfs_tree(root)  # Output: 1 2 3 4 6 7\n",
    "\n",
    "# Delete node with val 6\n",
    "root = delete_node(root, 3)\n",
    "\n",
    "print(\"\\nBST after deletion:\")\n",
    "bfs_tree(root)  # Output: 1 2 3 4 7\n",
    "\n"
   ]
  }
 ],
 "metadata": {
  "kernelspec": {
   "display_name": "Python 3",
   "language": "python",
   "name": "python3"
  },
  "language_info": {
   "codemirror_mode": {
    "name": "ipython",
    "version": 3
   },
   "file_extension": ".py",
   "mimetype": "text/x-python",
   "name": "python",
   "nbconvert_exporter": "python",
   "pygments_lexer": "ipython3",
   "version": "3.9.16"
  }
 },
 "nbformat": 4,
 "nbformat_minor": 2
}
