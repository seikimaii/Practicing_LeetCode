{
 "cells": [
  {
   "cell_type": "markdown",
   "id": "e3e44783",
   "metadata": {},
   "source": [
    "# 寫一個函式計算平均薪資(去掉最高級最低者)  \n",
    "## 輸入的陣列均為獨特值(裡面不重複)\n",
    "\n",
    "* 3 <= salary.length <= 100\n",
    "* 10^3 <= salary[i] <= 10^6\n",
    "* salary[i] is unique.\n",
    "* Answers within 10^-5 of the actual value will be accepted as correct."
   ]
  },
  {
   "cell_type": "code",
   "execution_count": null,
   "id": "b61857e5",
   "metadata": {},
   "outputs": [],
   "source": [
    "# 2021 11 30 作答\n",
    "# 1491. Average Salary Excluding the Minimum and Maximum Salary"
   ]
  },
  {
   "cell_type": "code",
   "execution_count": null,
   "id": "238f31dc",
   "metadata": {},
   "outputs": [],
   "source": [
    "def average(self, salary: list[int]) -> float:\n",
    "        return (sum(salary) - min(salary) - max(salary))/(len(salary)-2)"
   ]
  },
  {
   "cell_type": "code",
   "execution_count": null,
   "id": "20d45458",
   "metadata": {},
   "outputs": [],
   "source": [
    "def average(self, salary: List[int]) -> float:\n",
    "    salary.sort()\n",
    "    salary.pop()\n",
    "    salary.pop(0)\n",
    "    return sum(salary)/len(salary)"
   ]
  },
  {
   "cell_type": "markdown",
   "id": "79734b11",
   "metadata": {},
   "source": [
    "## 另外解法  \n",
    "先抓兩個值出來當最大最小，再依序拿陣列的值出來比較  \n",
    "位於中間就存起來加總，位於兩端就取代，原先的值加總"
   ]
  },
  {
   "cell_type": "code",
   "execution_count": null,
   "id": "03a37836",
   "metadata": {},
   "outputs": [],
   "source": [
    "def average(self, salary: List[int]) -> float:\n",
    "    Sum = 0\n",
    "\n",
    "    s = salary.pop()\n",
    "    b = salary.pop()\n",
    "    if s > b:\n",
    "        temp = s\n",
    "        s = b\n",
    "        b = temp\n",
    "    for i in salary:\n",
    "        if i < s:\n",
    "            Sum += s\n",
    "            s = i\n",
    "\n",
    "        elif s < i < b:\n",
    "            Sum += i\n",
    "\n",
    "        else:\n",
    "            Sum += b\n",
    "            b = i\n",
    "\n",
    "    return Sum / len(salary)"
   ]
  },
  {
   "cell_type": "markdown",
   "id": "c330a7e5",
   "metadata": {},
   "source": [
    "## 最佳解  \n",
    "### 先直接預設最大最小值，另一方面無腦總和  \n",
    "### 最後再把篩選出來的最大最小值減去就行"
   ]
  },
  {
   "cell_type": "code",
   "execution_count": 12,
   "id": "5ebf84aa",
   "metadata": {},
   "outputs": [],
   "source": [
    "def average(salary):\n",
    "    s, b = salary[0], salary[1]\n",
    "    Sum = 0\n",
    "    for i in salary:\n",
    "        if i > b:\n",
    "            b = i\n",
    "        if i < s:\n",
    "            s = i\n",
    "        Sum += i\n",
    "    return (Sum - s - b)/(len(salary)-2)"
   ]
  }
 ],
 "metadata": {
  "kernelspec": {
   "display_name": "Python 3",
   "language": "python",
   "name": "python3"
  },
  "language_info": {
   "codemirror_mode": {
    "name": "ipython",
    "version": 3
   },
   "file_extension": ".py",
   "mimetype": "text/x-python",
   "name": "python",
   "nbconvert_exporter": "python",
   "pygments_lexer": "ipython3",
   "version": "3.9.16"
  }
 },
 "nbformat": 4,
 "nbformat_minor": 5
}
