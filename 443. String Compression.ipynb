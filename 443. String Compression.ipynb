{
 "cells": [
  {
   "attachments": {},
   "cell_type": "markdown",
   "metadata": {},
   "source": [
    "Given an array of characters chars, compress it using the following algorithm:\n",
    "\n",
    "Begin with an empty string s. For each group of consecutive repeating characters in chars:\n",
    "\n",
    "If the group's length is 1, append the character to s.\n",
    "Otherwise, append the character followed by the group's length.\n",
    "The compressed string s should not be returned separately, but instead, be stored in the input character array chars. Note that group lengths that are 10 or longer will be split into multiple characters in chars.\n",
    "\n",
    "After you are done modifying the input array, return the new length of the array.\n",
    "\n",
    "You must write an algorithm that uses only constant extra space.\n",
    "\n",
    " \n",
    "\n",
    "Example 1:\n",
    "\n",
    "Input: chars = [\"a\",\"a\",\"b\",\"b\",\"c\",\"c\",\"c\"]\n",
    "Output: Return 6, and the first 6 characters of the input array should be: [\"a\",\"2\",\"b\",\"2\",\"c\",\"3\"]\n",
    "Explanation: The groups are \"aa\", \"bb\", and \"ccc\". This compresses to \"a2b2c3\".\n",
    "Example 2:\n",
    "\n",
    "Input: chars = [\"a\"]\n",
    "Output: Return 1, and the first character of the input array should be: [\"a\"]\n",
    "Explanation: The only group is \"a\", which remains uncompressed since it's a single character.\n",
    "Example 3:\n",
    "\n",
    "Input: chars = [\"a\",\"b\",\"b\",\"b\",\"b\",\"b\",\"b\",\"b\",\"b\",\"b\",\"b\",\"b\",\"b\"]\n",
    "Output: Return 4, and the first 4 characters of the input array should be: [\"a\",\"b\",\"1\",\"2\"].\n",
    "Explanation: The groups are \"a\" and \"bbbbbbbbbbbb\". This compresses to \"ab12\".\n",
    " \n",
    "\n",
    "Constraints:\n",
    "\n",
    "1 <= chars.length <= 2000\n",
    "chars[i] is a lowercase English letter, uppercase English letter, digit, or symbol."
   ]
  },
  {
   "attachments": {},
   "cell_type": "markdown",
   "metadata": {},
   "source": [
    "### 上面是題目  \n",
    "### 重點是  \n",
    "1. 輸入一個字串陣列  \n",
    "(或說字元陣列，題目根本沒說清楚＝＝，但我想意思是每個字串都是一個字母的長度，而且是連續重複，重複的話也會連續出現)  \n",
    "2. 將這組陣列做壓縮，如果裡面某個字元沒有重複出現 ex:['a'] 則記為 'a' ,  \n",
    "但如果有重複出現 ex:['b','b'] 則記為'b2', 2就是該重複字元的重複次數\n",
    "3. 依照範例方式整理，並回傳壓縮後的長度 int  \n",
    "4. 不能使用額外的儲存器，意指只能用字串儲存或是用原陣列儲存。  "
   ]
  },
  {
   "cell_type": "code",
   "execution_count": null,
   "metadata": {},
   "outputs": [],
   "source": [
    "def compress(chars):\n",
    "    \"\"\"\n",
    "    :type chars: List[str]\n",
    "    :rtype: int\n",
    "    \"\"\"\n",
    "    write_index = 0\n",
    "    count = 1\n",
    "    for i in range(1, len(chars) + 1):\n",
    "        if i < len(chars) and chars[i] == chars[i-1]:\n",
    "            count += 1\n",
    "        else:\n",
    "            chars[write_index] = chars[i-1]\n",
    "            write_index += 1\n",
    "            if count > 1:\n",
    "                for digit in str(count):\n",
    "                    chars[write_index] = digit # chars[write_index:write_index+len(str(count))] = list(str(count))\n",
    "                    write_index += 1           # write_index += len(str(count))\n",
    "            count = 1\n",
    "    return write_index"
   ]
  },
  {
   "attachments": {},
   "cell_type": "markdown",
   "metadata": {},
   "source": [
    "## 兩指針解：  \n",
    "用i來做比對，loop直到後值不等於前值，每次重複則 count += 1 記錄重複次數  \n",
    "用write_index來記錄當前壓縮整理的長度到哪，也同時是該陣列的賦值位置  \n",
    "第15~17行 也可以使用註解來填值\n"
   ]
  },
  {
   "cell_type": "code",
   "execution_count": null,
   "metadata": {},
   "outputs": [],
   "source": [
    "def compress(chars):\n",
    "    cur = chars[0]    # 當前字符\n",
    "    cnt = 1           # 當前字符出現次數\n",
    "    idx = 0           # 壓縮後的字符數組下標\n",
    "    for i in range(1, len(chars)):\n",
    "        if chars[i] == cur:\n",
    "            cnt += 1\n",
    "        else:\n",
    "            chars[idx] = cur\n",
    "            idx += 1\n",
    "            if cnt > 1:\n",
    "                for c in str(cnt):\n",
    "                    chars[idx] = c\n",
    "                    idx += 1\n",
    "            cur = chars[i]\n",
    "            cnt = 1\n",
    "    chars[idx] = cur\n",
    "    idx += 1\n",
    "    if cnt > 1:\n",
    "        for c in str(cnt):\n",
    "            chars[idx] = c\n",
    "            idx += 1\n",
    "    return idx"
   ]
  },
  {
   "attachments": {},
   "cell_type": "markdown",
   "metadata": {},
   "source": [
    "## 同樣是兩指針解：  \n",
    "用i來做比對，loop直到後值不等於前值，每次重複則 cnt += 1 記錄重複次數  \n",
    "用idx來記錄當前壓縮整理的長度到哪，也同時是該陣列的賦值位置  \n",
    "cur 不見得需要 可以用chars[i] == chars[i+1] 取代 但是要注意indexOutOfRange   \n"
   ]
  },
  {
   "cell_type": "markdown",
   "metadata": {},
   "source": []
  }
 ],
 "metadata": {
  "language_info": {
   "name": "python"
  },
  "orig_nbformat": 4
 },
 "nbformat": 4,
 "nbformat_minor": 2
}
