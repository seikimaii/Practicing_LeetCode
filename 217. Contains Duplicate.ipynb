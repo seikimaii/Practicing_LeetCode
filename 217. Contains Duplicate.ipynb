{
 "cells": [
  {
   "attachments": {},
   "cell_type": "markdown",
   "metadata": {},
   "source": [
    "## 請寫一個函式來檢查一個整數陣列是否有某一個值 重複兩次以上"
   ]
  },
  {
   "attachments": {},
   "cell_type": "markdown",
   "metadata": {},
   "source": [
    "Given an integer array nums, \n",
    "return true if any value appears at least twice in the array,  \n",
    "and return false if every element is distinct."
   ]
  },
  {
   "cell_type": "code",
   "execution_count": null,
   "metadata": {},
   "outputs": [],
   "source": [
    "def containsDuplicate(self, nums: List[int]) -> bool:\n",
    "    hash = {}\n",
    "    for n in nums:\n",
    "        if hash.get(n):\n",
    "            return True\n",
    "        hash[n] = True\n",
    "    \n",
    "    return False\n",
    "    #使用hash map 87%都使用hash map 或 set()\n",
    "#想省空間可以bitwise ^\n",
    "def containsDuplicate(self, nums: List[int]) -> bool:\n",
    "    curr = nums[0]\n",
    "    for i in range(1, len(nums)):\n",
    "        if nums[i]^curr == 0:\n",
    "            return True\n",
    "        curr = nums[i]\n",
    "    return False"
   ]
  }
 ],
 "metadata": {
  "language_info": {
   "name": "python"
  },
  "orig_nbformat": 4
 },
 "nbformat": 4,
 "nbformat_minor": 2
}
