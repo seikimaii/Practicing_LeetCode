{
 "cells": [
  {
   "cell_type": "markdown",
   "id": "1c173bcd",
   "metadata": {},
   "source": [
    "## 請寫一個函式來連接兩個List(此List非原本Python List)  \n",
    "\n",
    "\n",
    "* The number of nodes in both lists is in the range [0, 50].\n",
    "* -100 <= Node.val <= 100\n",
    "* Both l1 and l2 are sorted in non-decreasing order."
   ]
  },
  {
   "cell_type": "code",
   "execution_count": null,
   "id": "8e2c440f",
   "metadata": {},
   "outputs": [],
   "source": [
    "# 2021 11 24 作答\n",
    "# 21. Merge Two Sorted Lists"
   ]
  },
  {
   "cell_type": "code",
   "execution_count": 6,
   "id": "0833a7fe",
   "metadata": {},
   "outputs": [],
   "source": [
    "# Definition for singly-linked list.\n",
    "# class ListNode:\n",
    "#     def __init__(self, val=0, next=None):\n",
    "#         self.val = val\n",
    "#         self.next = next\n",
    "\n",
    "#ListNode定義 題目傳入與回傳的均為此物件"
   ]
  },
  {
   "cell_type": "code",
   "execution_count": 5,
   "id": "d285d6ab",
   "metadata": {},
   "outputs": [],
   "source": [
    "def mergeTwoLists(l1=None, l2=None): # -> Optional[ListNode]:\n",
    "    dummy = tmp = ListNode(0)\n",
    "    while l1 and l2:\n",
    "        if l1.val < l2.val:\n",
    "            tmp.next = l1\n",
    "            l1 = l1.next\n",
    "        else:\n",
    "            tmp.next = l2\n",
    "            l2 = l2.next\n",
    "        tmp = tmp.next\n",
    "\n",
    "    tmp.next = l1 or l2\n",
    "    return dummy.next"
   ]
  },
  {
   "cell_type": "markdown",
   "id": "da68d4e2",
   "metadata": {},
   "source": [
    "### 詳解"
   ]
  },
  {
   "cell_type": "markdown",
   "id": "5f8f965b",
   "metadata": {},
   "source": [
    "運用指標的概念 建議一個初始物件 ListNode(0)  \n",
    "一開始 dummy 跟 tmp 記憶體位址相同  \n",
    "後面隨著迴圈 接上新的數值 tmp.next = l1  \n",
    "並讓tmp記憶體位址依序往後移動 tmp = tmp.next  \n",
    "tmp.next = l1 or l2 此時tmp已經位於最尾端 這步驟要加入剩下的數值(其中一個已經歸零了，跳脫while迴圈)"
   ]
  },
  {
   "cell_type": "markdown",
   "id": "ee14b6f2",
   "metadata": {},
   "source": [
    "#### 以  \n",
    "l1 = [1,2,4]  \n",
    "l2 = [1,3,4] 為例"
   ]
  },
  {
   "cell_type": "code",
   "execution_count": null,
   "id": "eca901ef",
   "metadata": {},
   "outputs": [],
   "source": [
    "# dummy的變化情況\n",
    "0次: ListNode{val: 0, next: ListNode{val: 1, next: ListNode{val: 3, next: ListNode{val: 4, next: None}}}}\n",
    "1次: ListNode{val: 0, next: ListNode{val: 1, next: ListNode{val: 1, next: ListNode{val: 2, next: ListNode{val: 4, next: None}}}}}\n",
    "2次: ListNode{val: 0, next: ListNode{val: 1, next: ListNode{val: 1, next: ListNode{val: 2, next: ListNode{val: 4, next: None}}}}}\n",
    "3次: ListNode{val: 0, next: ListNode{val: 1, next: ListNode{val: 1, next: ListNode{val: 2, next: ListNode{val: 3, next: ListNode{val: 4, next: None}}}}}}\n",
    "4次: ListNode{val: 0, next: ListNode{val: 1, next: ListNode{val: 1, next: ListNode{val: 2, next: ListNode{val: 3, next: ListNode{val: 4, next: None}}}}}}\n",
    "最後 ListNode{val: 0, next: ListNode{val: 1, next: ListNode{val: 1, next: ListNode{val: 2, next: ListNode{val: 3, next: ListNode{val: 4, next: ListNode{val: 4, next: None}}}}}}}\n"
   ]
  }
 ],
 "metadata": {
  "kernelspec": {
   "display_name": "Python 3",
   "language": "python",
   "name": "python3"
  },
  "language_info": {
   "codemirror_mode": {
    "name": "ipython",
    "version": 3
   },
   "file_extension": ".py",
   "mimetype": "text/x-python",
   "name": "python",
   "nbconvert_exporter": "python",
   "pygments_lexer": "ipython3",
   "version": "3.8.9"
  },
  "vscode": {
   "interpreter": {
    "hash": "31f2aee4e71d21fbe5cf8b01ff0e069b9275f58929596ceb00d14d90e3e16cd6"
   }
  }
 },
 "nbformat": 4,
 "nbformat_minor": 5
}
