{
 "cells": [
  {
   "attachments": {},
   "cell_type": "markdown",
   "metadata": {},
   "source": [
    "Given an array arr of positive integers sorted in a strictly increasing order, and an integer k.  \n",
    "Return the kth positive integer that is missing from this array.  \n",
    "\n",
    "Example 1:  \n",
    "\n",
    "Input: arr = [2,3,4,7,11], k = 5  \n",
    "Output: 9  \n",
    "Explanation: The missing positive integers are [1,5,6,8,9,10,12,13,...]. The 5th missing positive   \n",
    "integer is 9.  \n",
    "Example 2:  \n",
    "Input: arr = [1,2,3,4], k = 2  \n",
    "Output: 6  \n",
    "Explanation: The missing positive integers are [5,6,7,...]. The 2nd missing positive integer is 6.  \n",
    "\n",
    "Constraints:  \n",
    "1 <= arr.length <= 1000  \n",
    "1 <= arr[i] <= 1000  \n",
    "1 <= k <= 1000  \n",
    "arr[i] < arr[j] for 1 <= i < j <= arr.length  "
   ]
  },
  {
   "attachments": {},
   "cell_type": "markdown",
   "metadata": {},
   "source": [
    "題目是說給一個整數陣列arr，嚴格遞增，表示從小排到大且不重複  \n",
    "找出從1開始到1000內，第k個被arr遺漏掉的整數，並回傳  \n"
   ]
  },
  {
   "cell_type": "code",
   "execution_count": null,
   "metadata": {},
   "outputs": [],
   "source": [
    "def findKthPositive(arr, k):\n",
    "    expected_num = 1\n",
    "    for num in arr:\n",
    "        if num != expected_num:\n",
    "            missing_num_count = num - expected_num\n",
    "            if missing_num_count >= k:\n",
    "                return expected_num + k - 1\n",
    "            k -= missing_num_count\n",
    "        expected_num = num + 1\n",
    "    return arr[-1] + k"
   ]
  },
  {
   "attachments": {},
   "cell_type": "markdown",
   "metadata": {},
   "source": [
    "例如 arr = [5,8,10,15,21] , k = 8  \n",
    "按照以上方法推導  \n",
    "當 expected_num = 1,(最小數字) num = 5, 會找到漏掉的4個數字 1,2,3,4 k=4  \n",
    "當 expected_num = 6, num = 8, 會找到漏掉的2個數字 6,7 k=2  \n",
    "當 expected_num = 9, num = 10, 會找到漏掉的1個數字 9 此時總共找到漏掉的數共7個 k=1  \n",
    "當 expected_num = 11, num = 15, 會找到漏掉的4個數字 11,12,13,14 共找到漏掉的數11個 已經超過一開始的8個  \n",
    "所以第8個漏掉的數為 expected_num + k - 1 = 11 + 1 -1 = 11 (1,2,3,4,6,7,9,11,12,13,14) 第8個為11"
   ]
  },
  {
   "attachments": {},
   "cell_type": "markdown",
   "metadata": {},
   "source": [
    "expected_num + k - 1 解釋:  \n",
    "若運行到此行，表示已經找到要求的數了，且落在expected_num 與 num 之間  \n",
    "此時參考還剩下幾個數字，把expected_num移動幾個就是要求的數，不過expected_num本身也是漏掉的數 故要-1回來  \n",
    "理解成 expected_num + (k-1) 比較接近原本的數學意義。  \n",
    "\n",
    "如果全部arr都跑完，仍然沒有找到足夠的數，那我們就可以把剩下沒找到的數，直接往arr右側找。  \n",
    "例如：arr = [1~30] 共20個數，k = 20 ，想要尋找漏掉的第20個數。  \n",
    "但是我的arr裡面只能找到10個漏掉的數(此時 k 已經被扣到剩下10)，剩下10個我們直接往arr右側找，也就是 arr[-1] + k"
   ]
  },
  {
   "cell_type": "code",
   "execution_count": 6,
   "metadata": {},
   "outputs": [
    {
     "name": "stdout",
     "output_type": "stream",
     "text": [
      "10\n"
     ]
    }
   ],
   "source": [
    "def findKthPositive(arr, k):\n",
    "    left, right = 0, len(arr) - 1\n",
    "    while left <= right:\n",
    "        mid = (left + right) // 2\n",
    "        missing_num_count = arr[mid] - (mid + 1)\n",
    "        if missing_num_count >= k:\n",
    "            right = mid - 1\n",
    "        else:\n",
    "            left = mid + 1\n",
    "    return left + k\n",
    "x = findKthPositive([5,8,11,15,21], 8)\n",
    "print(x)"
   ]
  },
  {
   "attachments": {},
   "cell_type": "markdown",
   "metadata": {},
   "source": [
    "例如 arr = [5,8,10,15,21] , k = 8  \n",
    "按照以上方法推導  \n",
    "left, right = 0, 4 # 分表最左及最右index  \n",
    "mid = (left + right) // 2 = 2 # 求最中間的index  \n",
    "missing_num_count = arr[mid] - (mid+1) = 10 - 3 = 7 #表示第3個數為10，以1~10來說，只佔了3個數，已經漏掉7個數了  \n",
    "7 並沒有 >= k 於是 直接把最左側移到 mid+1  \n",
    "  \n",
    "left, right = 3, 4  mid = 3\n",
    "missing_num_count = arr[mid] - (mid+1) = 15 - 4 = 11 ＃已經漏掉11個數了  \n",
    "11 >= 8 於是 right = mid - 1 = 2, right(2) < left(3)  \n",
    "return left + k = 3 + 8 = 11  \n",
    "left + k 解釋：  \n",
    "找到漏掉11個數的時候，將right往左移，但發現left、right已經交叉，表示搜尋結束，結果位於left、right之間  \n",
    "如果完全沒被佔據，第8個整數應為8，但是因為被佔據[5,8,10] 共3個數 ，於是將8往右移3格  \n",
    "left所處的index剛好代表被佔據了幾個數字。\n"
   ]
  },
  {
   "cell_type": "markdown",
   "metadata": {},
   "source": []
  }
 ],
 "metadata": {
  "kernelspec": {
   "display_name": "Python 3",
   "language": "python",
   "name": "python3"
  },
  "language_info": {
   "codemirror_mode": {
    "name": "ipython",
    "version": 3
   },
   "file_extension": ".py",
   "mimetype": "text/x-python",
   "name": "python",
   "nbconvert_exporter": "python",
   "pygments_lexer": "ipython3",
   "version": "3.9.16"
  },
  "orig_nbformat": 4
 },
 "nbformat": 4,
 "nbformat_minor": 2
}
